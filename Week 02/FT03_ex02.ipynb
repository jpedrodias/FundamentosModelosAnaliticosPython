{
 "cells": [
  {
   "cell_type": "markdown",
   "id": "bc90d2ef",
   "metadata": {},
   "source": [
    "# Exercício 2 – Heart Disease Prediction UCI \n",
    "\n",
    "\n",
    "* https://www.kaggle.com/datasets/priyanka841/heart-disease-prediction-uci \n",
    "\n",
    "Tarefa: \n",
    "* Prever presença de doença cardíaca com regressão logística \n",
    "* Usar regularização: C=1, 0.1, 0.01 \n",
    "* Avaliar com classification_report e confusion_matrix"
   ]
  },
  {
   "cell_type": "code",
   "execution_count": 3,
   "id": "c62f6412",
   "metadata": {},
   "outputs": [],
   "source": [
    "from sklearn.linear_model import LogisticRegression\n",
    "from sklearn.datasets import load_iris\n",
    "from sklearn.model_selection import train_test_split\n",
    "from sklearn.metrics import accuracy_score"
   ]
  },
  {
   "cell_type": "code",
   "execution_count": 5,
   "id": "51bd4d7e",
   "metadata": {},
   "outputs": [],
   "source": [
    "# Dados\n",
    "X, y = load_iris(return_X_y = True)\n",
    "X_train, X_test, y_train, y_test = train_test_split(X, y, test_size=0.3, random_state=42)"
   ]
  },
  {
   "cell_type": "code",
   "execution_count": 9,
   "id": "3301e557",
   "metadata": {},
   "outputs": [
    {
     "name": "stdout",
     "output_type": "stream",
     "text": [
      "Accuracy with C=1: 1.00\n",
      "Accuracy with C=0.1: 0.96\n",
      "Accuracy with C=0.01: 0.82\n"
     ]
    }
   ],
   "source": [
    "# Testar diferentes valores de C\n",
    "for C in [1, 0.1, 0.01]:\n",
    "    # treinar o modelo\n",
    "    model = LogisticRegression(C=C, max_iter=1000)\n",
    "    model.fit(X_train, y_train)\n",
    "\n",
    "    # prever os rótulos\n",
    "    y_predictions = model.predict(X_test)\n",
    "\n",
    "    acc = accuracy_score(y_test, y_predictions)\n",
    "    print(f\"Accuracy with C={C}: {acc:.2f}\")\n"
   ]
  },
  {
   "cell_type": "code",
   "execution_count": null,
   "id": "4095173a",
   "metadata": {},
   "outputs": [],
   "source": []
  }
 ],
 "metadata": {
  "kernelspec": {
   "display_name": "FormacaoModelos",
   "language": "python",
   "name": "python3"
  },
  "language_info": {
   "codemirror_mode": {
    "name": "ipython",
    "version": 3
   },
   "file_extension": ".py",
   "mimetype": "text/x-python",
   "name": "python",
   "nbconvert_exporter": "python",
   "pygments_lexer": "ipython3",
   "version": "3.13.2"
  }
 },
 "nbformat": 4,
 "nbformat_minor": 5
}
