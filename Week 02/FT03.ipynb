{
 "cells": [
  {
   "cell_type": "markdown",
   "id": "d7fcbb97",
   "metadata": {},
   "source": [
    "# Fundamentos do desenvolvimento de modelos analíticos em Python"
   ]
  },
  {
   "cell_type": "markdown",
   "id": "2ae3aa2e",
   "metadata": {},
   "source": [
    "Ficha de trabalho 03"
   ]
  },
  {
   "cell_type": "markdown",
   "id": "545739d7",
   "metadata": {},
   "source": []
  }
 ],
 "metadata": {
  "language_info": {
   "name": "python"
  }
 },
 "nbformat": 4,
 "nbformat_minor": 5
}
