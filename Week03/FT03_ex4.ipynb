{
 "cells": [
  {
   "cell_type": "markdown",
   "id": "083c2c80",
   "metadata": {},
   "source": [
    "# Exercício 4 – Breast Cancer Prediction – Logistic Regression + Cross-Validation\n",
    "\n",
    "* https://wwwkaggle.com/datasets/uciml/breast-cancer-wisconsin-data\n",
    "\n",
    "# Tarefa:\n",
    "* Criar pipeline com `StandardScaler` + `LogisticRegression`\n",
    "* Avaliação com validação cruzada (`cross_val_predict`)\n",
    "* Visualização da matriz de confusão com `seaborn`\n"
   ]
  },
  {
   "cell_type": "markdown",
   "id": "a29e3409",
   "metadata": {},
   "source": [
    "# Importar bibliotecas"
   ]
  },
  {
   "cell_type": "code",
   "execution_count": null,
   "id": "cb091a44",
   "metadata": {},
   "outputs": [],
   "source": [
    "import pandas as pd\n",
    "import numpy as np\n",
    "from sklearn.model_selection import cross_val_predict\n",
    "from sklearn.preprocessing import StandardScaler\n",
    "from sklearn.pipeline import Pipeline\n",
    "from sklearn.linear_model import LogisticRegression\n",
    "from sklearn.metrics import classification_report, confusion_matrix\n",
    "import seaborn as sns\n",
    "import matplotlib.pyplot as plt"
   ]
  },
  {
   "cell_type": "code",
   "execution_count": 8,
   "id": "33a8ba03",
   "metadata": {},
   "outputs": [],
   "source": [
    "# Carregar os dados\n",
    "df = pd.read_csv(\"data/cancer.csv\")  # Certifique-se de que o ficheiro está no diretório de trabalho\n",
    "\n",
    "# Remover colunas irrelevantes\n",
    "df.drop(['id', 'Unnamed: 32'], axis=1, inplace=True)\n",
    "\n",
    "# Converter 'diagnosis' em valores binários (M=1, B=0)\n",
    "df['diagnosis'] = df['diagnosis'].map({'M': 1, 'B': 0})\n",
    "\n",
    "# Separar variáveis independentes e alvo\n",
    "X = df.drop('diagnosis', axis=1)\n",
    "y = df['diagnosis']"
   ]
  },
  {
   "cell_type": "code",
   "execution_count": 9,
   "id": "a6d3d43b",
   "metadata": {},
   "outputs": [],
   "source": [
    "# Criar pipeline com normalização e regressão logística\n",
    "pipeline = Pipeline([\n",
    "    ('scaler', StandardScaler()),\n",
    "    ('logreg', LogisticRegression(max_iter=1000))\n",
    "])"
   ]
  },
  {
   "cell_type": "code",
   "execution_count": 10,
   "id": "9261f928",
   "metadata": {},
   "outputs": [],
   "source": [
    "# Obter previsões com validação cruzada (5-fold)\n",
    "y_pred = cross_val_predict(pipeline, X, y, cv=5)"
   ]
  },
  {
   "cell_type": "code",
   "execution_count": 11,
   "id": "b2e23173",
   "metadata": {},
   "outputs": [
    {
     "name": "stdout",
     "output_type": "stream",
     "text": [
      "Classification Report:\n",
      "              precision    recall  f1-score   support\n",
      "\n",
      "           0       0.98      0.99      0.98       357\n",
      "           1       0.99      0.96      0.97       212\n",
      "\n",
      "    accuracy                           0.98       569\n",
      "   macro avg       0.98      0.98      0.98       569\n",
      "weighted avg       0.98      0.98      0.98       569\n",
      "\n"
     ]
    }
   ],
   "source": [
    "# Avaliação do modelo\n",
    "print(\"Classification Report:\")\n",
    "print(classification_report(y, y_pred))\n",
    "\n",
    "# Matriz de confusão\n",
    "cm = confusion_matrix(y, y_pred)"
   ]
  },
  {
   "cell_type": "code",
   "execution_count": 12,
   "id": "ae2872de",
   "metadata": {},
   "outputs": [
    {
     "data": {
      "image/png": "[encoded data removed]",
      "text/plain": [
       "<Figure size 640x480 with 2 Axes>"
      ]
     },
     "metadata": {},
     "output_type": "display_data"
    }
   ],
   "source": [
    "# Visualização da matriz de confusão\n",
    "sns.heatmap(cm, annot=True, fmt='d', cmap='Blues', \n",
    "            xticklabels=['Benigno', 'Maligno'], \n",
    "            yticklabels=['Benigno', 'Maligno'])\n",
    "plt.xlabel('Previsto')\n",
    "plt.ylabel('Real')\n",
    "plt.title('Matriz de Confusão')\n",
    "plt.show()"
   ]
  },
  {
   "cell_type": "markdown",
   "id": "895aab73",
   "metadata": {},
   "source": [
    "--- \n",
    "end of file"
   ]
  }
 ],
 "metadata": {
  "kernelspec": {
   "display_name": "FormacaoModelos",
   "language": "python",
   "name": "python3"
  },
  "language_info": {
   "codemirror_mode": {
    "name": "ipython",
    "version": 3
   },
   "file_extension": ".py",
   "mimetype": "text/x-python",
   "name": "python",
   "nbconvert_exporter": "python",
   "pygments_lexer": "ipython3",
   "version": "3.13.5"
  }
 },
 "nbformat": 4,
 "nbformat_minor": 5
}
