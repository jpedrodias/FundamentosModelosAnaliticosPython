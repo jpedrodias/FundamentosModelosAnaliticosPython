{
 "cells": [
  {
   "cell_type": "markdown",
   "id": "d70a572a",
   "metadata": {},
   "source": [
    "# Fundamentos do desenvolvimento de modelos analíticos em Python"
   ]
  },
  {
   "cell_type": "code",
   "execution_count": null,
   "id": "50a36639",
   "metadata": {},
   "outputs": [],
   "source": []
  }
 ],
 "metadata": {
  "kernelspec": {
   "display_name": "FormacaoModelos",
   "language": "python",
   "name": "python3"
  },
  "language_info": {
   "name": "python",
   "version": "3.13.2"
  }
 },
 "nbformat": 4,
 "nbformat_minor": 5
}
