{
 "cells": [
  {
   "cell_type": "markdown",
   "id": "d70a572a",
   "metadata": {},
   "source": [
    "# Fundamentos do desenvolvimento de modelos analíticos em Python"
   ]
  },
  {
   "cell_type": "markdown",
   "id": "3e470952",
   "metadata": {},
   "source": [
    "Ficha de trabalho Pandas"
   ]
  },
  {
   "cell_type": "code",
   "execution_count": 2,
   "id": "4761c84e",
   "metadata": {},
   "outputs": [],
   "source": [
    "import pandas as pd"
   ]
  },
  {
   "cell_type": "code",
   "execution_count": 3,
   "id": "50a36639",
   "metadata": {},
   "outputs": [],
   "source": [
    "file_path = 'data/uber_reviews_without_reviewid.csv'\n",
    "file_path_cleaned = 'data/uber_reviews_cleaned.csv'\n",
    "\n",
    "\n",
    "df = pd.read_csv(file_path, index_col=0)"
   ]
  },
  {
   "cell_type": "code",
   "execution_count": 4,
   "id": "db01e969",
   "metadata": {},
   "outputs": [
    {
     "name": "stdout",
     "output_type": "stream",
     "text": [
      "<class 'pandas.core.frame.DataFrame'>\n",
      "Index: 12000 entries, User_0 to User_11999\n",
      "Data columns (total 9 columns):\n",
      " #   Column                Non-Null Count  Dtype  \n",
      "---  ------                --------------  -----  \n",
      " 0   userImage             0 non-null      float64\n",
      " 1   content               12000 non-null  object \n",
      " 2   score                 12000 non-null  int64  \n",
      " 3   thumbsUpCount         12000 non-null  int64  \n",
      " 4   reviewCreatedVersion  10260 non-null  object \n",
      " 5   at                    12000 non-null  object \n",
      " 6   replyContent          33 non-null     object \n",
      " 7   repliedAt             33 non-null     object \n",
      " 8   appVersion            10260 non-null  object \n",
      "dtypes: float64(1), int64(2), object(6)\n",
      "memory usage: 937.5+ KB\n"
     ]
    }
   ],
   "source": [
    "df.info()"
   ]
  },
  {
   "cell_type": "code",
   "execution_count": 5,
   "id": "30c582fd",
   "metadata": {},
   "outputs": [
    {
     "data": {
      "text/html": [
       "<div>\n",
       "<style scoped>\n",
       "    .dataframe tbody tr th:only-of-type {\n",
       "        vertical-align: middle;\n",
       "    }\n",
       "\n",
       "    .dataframe tbody tr th {\n",
       "        vertical-align: top;\n",
       "    }\n",
       "\n",
       "    .dataframe thead th {\n",
       "        text-align: right;\n",
       "    }\n",
       "</style>\n",
       "<table border=\"1\" class=\"dataframe\">\n",
       "  <thead>\n",
       "    <tr style=\"text-align: right;\">\n",
       "      <th></th>\n",
       "      <th>userImage</th>\n",
       "      <th>content</th>\n",
       "      <th>score</th>\n",
       "      <th>thumbsUpCount</th>\n",
       "      <th>reviewCreatedVersion</th>\n",
       "      <th>at</th>\n",
       "      <th>replyContent</th>\n",
       "      <th>repliedAt</th>\n",
       "      <th>appVersion</th>\n",
       "    </tr>\n",
       "    <tr>\n",
       "      <th>userName</th>\n",
       "      <th></th>\n",
       "      <th></th>\n",
       "      <th></th>\n",
       "      <th></th>\n",
       "      <th></th>\n",
       "      <th></th>\n",
       "      <th></th>\n",
       "      <th></th>\n",
       "      <th></th>\n",
       "    </tr>\n",
       "  </thead>\n",
       "  <tbody>\n",
       "    <tr>\n",
       "      <th>User_0</th>\n",
       "      <td>NaN</td>\n",
       "      <td>Good</td>\n",
       "      <td>5</td>\n",
       "      <td>0</td>\n",
       "      <td>4.556.10005</td>\n",
       "      <td>2024-12-18 17:17:19</td>\n",
       "      <td>NaN</td>\n",
       "      <td>NaN</td>\n",
       "      <td>4.556.10005</td>\n",
       "    </tr>\n",
       "    <tr>\n",
       "      <th>User_1</th>\n",
       "      <td>NaN</td>\n",
       "      <td>Nice</td>\n",
       "      <td>5</td>\n",
       "      <td>0</td>\n",
       "      <td>4.556.10005</td>\n",
       "      <td>2024-12-18 17:17:17</td>\n",
       "      <td>NaN</td>\n",
       "      <td>NaN</td>\n",
       "      <td>4.556.10005</td>\n",
       "    </tr>\n",
       "    <tr>\n",
       "      <th>User_2</th>\n",
       "      <td>NaN</td>\n",
       "      <td>Very convenient</td>\n",
       "      <td>5</td>\n",
       "      <td>0</td>\n",
       "      <td>4.532.10001</td>\n",
       "      <td>2024-12-18 17:09:42</td>\n",
       "      <td>NaN</td>\n",
       "      <td>NaN</td>\n",
       "      <td>4.532.10001</td>\n",
       "    </tr>\n",
       "    <tr>\n",
       "      <th>User_3</th>\n",
       "      <td>NaN</td>\n",
       "      <td>Good</td>\n",
       "      <td>4</td>\n",
       "      <td>0</td>\n",
       "      <td>4.556.10005</td>\n",
       "      <td>2024-12-18 17:08:27</td>\n",
       "      <td>NaN</td>\n",
       "      <td>NaN</td>\n",
       "      <td>4.556.10005</td>\n",
       "    </tr>\n",
       "    <tr>\n",
       "      <th>User_4</th>\n",
       "      <td>NaN</td>\n",
       "      <td>exllence</td>\n",
       "      <td>5</td>\n",
       "      <td>0</td>\n",
       "      <td>4.556.10005</td>\n",
       "      <td>2024-12-18 17:08:16</td>\n",
       "      <td>NaN</td>\n",
       "      <td>NaN</td>\n",
       "      <td>4.556.10005</td>\n",
       "    </tr>\n",
       "  </tbody>\n",
       "</table>\n",
       "</div>"
      ],
      "text/plain": [
       "          userImage          content  score  thumbsUpCount  \\\n",
       "userName                                                     \n",
       "User_0          NaN             Good      5              0   \n",
       "User_1          NaN             Nice      5              0   \n",
       "User_2          NaN  Very convenient      5              0   \n",
       "User_3          NaN             Good      4              0   \n",
       "User_4          NaN         exllence      5              0   \n",
       "\n",
       "         reviewCreatedVersion                   at replyContent repliedAt  \\\n",
       "userName                                                                    \n",
       "User_0            4.556.10005  2024-12-18 17:17:19          NaN       NaN   \n",
       "User_1            4.556.10005  2024-12-18 17:17:17          NaN       NaN   \n",
       "User_2            4.532.10001  2024-12-18 17:09:42          NaN       NaN   \n",
       "User_3            4.556.10005  2024-12-18 17:08:27          NaN       NaN   \n",
       "User_4            4.556.10005  2024-12-18 17:08:16          NaN       NaN   \n",
       "\n",
       "           appVersion  \n",
       "userName               \n",
       "User_0    4.556.10005  \n",
       "User_1    4.556.10005  \n",
       "User_2    4.532.10001  \n",
       "User_3    4.556.10005  \n",
       "User_4    4.556.10005  "
      ]
     },
     "execution_count": 5,
     "metadata": {},
     "output_type": "execute_result"
    }
   ],
   "source": [
    "df.head()"
   ]
  },
  {
   "cell_type": "markdown",
   "id": "602ed686",
   "metadata": {},
   "source": [
    "# Limpeza de Dados"
   ]
  },
  {
   "cell_type": "code",
   "execution_count": 6,
   "id": "13e0086c",
   "metadata": {},
   "outputs": [],
   "source": [
    "df_cleaned = df.drop(columns=['userImage'])"
   ]
  },
  {
   "cell_type": "code",
   "execution_count": 7,
   "id": "8616f778",
   "metadata": {},
   "outputs": [],
   "source": [
    "df_cleaned.fillna({'reviewCreatedVersion': 'Desconhecida'}, inplace=True)\n",
    "df_cleaned.fillna({'appVersion': 'Desconhecida'}, inplace=True)"
   ]
  },
  {
   "cell_type": "markdown",
   "id": "e5a543de",
   "metadata": {},
   "source": [
    "# Análise Descritiva"
   ]
  },
  {
   "cell_type": "code",
   "execution_count": 8,
   "id": "1828af86",
   "metadata": {},
   "outputs": [
    {
     "data": {
      "text/plain": [
       "score\n",
       "5    7926\n",
       "1    2618\n",
       "4     806\n",
       "3     333\n",
       "2     317\n",
       "Name: count, dtype: int64"
      ]
     },
     "execution_count": 8,
     "metadata": {},
     "output_type": "execute_result"
    }
   ],
   "source": [
    "df_cleaned['score'].value_counts()"
   ]
  },
  {
   "cell_type": "markdown",
   "id": "24ac46c5",
   "metadata": {},
   "source": [
    "# Resumo de thumsUpCount"
   ]
  },
  {
   "cell_type": "code",
   "execution_count": 9,
   "id": "216e9db1",
   "metadata": {},
   "outputs": [
    {
     "data": {
      "text/plain": [
       "count    12000.000000\n",
       "mean         0.517000\n",
       "std          6.298268\n",
       "min          0.000000\n",
       "25%          0.000000\n",
       "50%          0.000000\n",
       "75%          0.000000\n",
       "max        239.000000\n",
       "Name: thumbsUpCount, dtype: float64"
      ]
     },
     "execution_count": 9,
     "metadata": {},
     "output_type": "execute_result"
    }
   ],
   "source": [
    "df_cleaned['thumbsUpCount'].describe()"
   ]
  },
  {
   "cell_type": "markdown",
   "id": "cbab2d17",
   "metadata": {},
   "source": [
    "# Distribuição Temporal das Análises"
   ]
  },
  {
   "cell_type": "code",
   "execution_count": 10,
   "id": "655a91f4",
   "metadata": {},
   "outputs": [
    {
     "data": {
      "text/plain": [
       "at\n",
       "2024-11-24     55\n",
       "2024-11-25    493\n",
       "2024-11-26    537\n",
       "2024-11-27    566\n",
       "2024-11-28    461\n",
       "Name: count, dtype: int64"
      ]
     },
     "execution_count": 10,
     "metadata": {},
     "output_type": "execute_result"
    }
   ],
   "source": [
    "df_cleaned['at'] = pd.to_datetime(df_cleaned['at'])\n",
    "df_cleaned['at'].dt.date.value_counts().sort_index().head()"
   ]
  },
  {
   "cell_type": "markdown",
   "id": "f0031244",
   "metadata": {},
   "source": [
    "# Resumo de Respostas"
   ]
  },
  {
   "cell_type": "code",
   "execution_count": 12,
   "id": "82d19658",
   "metadata": {},
   "outputs": [
    {
     "data": {
      "text/html": [
       "<div>\n",
       "<style scoped>\n",
       "    .dataframe tbody tr th:only-of-type {\n",
       "        vertical-align: middle;\n",
       "    }\n",
       "\n",
       "    .dataframe tbody tr th {\n",
       "        vertical-align: top;\n",
       "    }\n",
       "\n",
       "    .dataframe thead th {\n",
       "        text-align: right;\n",
       "    }\n",
       "</style>\n",
       "<table border=\"1\" class=\"dataframe\">\n",
       "  <thead>\n",
       "    <tr style=\"text-align: right;\">\n",
       "      <th></th>\n",
       "      <th>replyContent</th>\n",
       "      <th>repliedAt</th>\n",
       "    </tr>\n",
       "    <tr>\n",
       "      <th>userName</th>\n",
       "      <th></th>\n",
       "      <th></th>\n",
       "    </tr>\n",
       "  </thead>\n",
       "  <tbody>\n",
       "    <tr>\n",
       "      <th>User_428</th>\n",
       "      <td>Hi Robin, the feedback from our riders is vita...</td>\n",
       "      <td>2019-07-14 11:38:48</td>\n",
       "    </tr>\n",
       "    <tr>\n",
       "      <th>User_498</th>\n",
       "      <td>Hi David, we want to take a closer look into t...</td>\n",
       "      <td>2019-01-29 12:09:57</td>\n",
       "    </tr>\n",
       "    <tr>\n",
       "      <th>User_668</th>\n",
       "      <td>Hi Anibal, the feedback from our driver-partne...</td>\n",
       "      <td>2020-02-04 10:15:41</td>\n",
       "    </tr>\n",
       "    <tr>\n",
       "      <th>User_2819</th>\n",
       "      <td>Hi Robert , we're extremely sorry to hear abou...</td>\n",
       "      <td>2022-01-17 10:39:55</td>\n",
       "    </tr>\n",
       "    <tr>\n",
       "      <th>User_2923</th>\n",
       "      <td>HI Kiran, we want to take a closer look into t...</td>\n",
       "      <td>2019-05-29 15:34:45</td>\n",
       "    </tr>\n",
       "  </tbody>\n",
       "</table>\n",
       "</div>"
      ],
      "text/plain": [
       "                                                replyContent  \\\n",
       "userName                                                       \n",
       "User_428   Hi Robin, the feedback from our riders is vita...   \n",
       "User_498   Hi David, we want to take a closer look into t...   \n",
       "User_668   Hi Anibal, the feedback from our driver-partne...   \n",
       "User_2819  Hi Robert , we're extremely sorry to hear abou...   \n",
       "User_2923  HI Kiran, we want to take a closer look into t...   \n",
       "\n",
       "                     repliedAt  \n",
       "userName                        \n",
       "User_428   2019-07-14 11:38:48  \n",
       "User_498   2019-01-29 12:09:57  \n",
       "User_668   2020-02-04 10:15:41  \n",
       "User_2819  2022-01-17 10:39:55  \n",
       "User_2923  2019-05-29 15:34:45  "
      ]
     },
     "execution_count": 12,
     "metadata": {},
     "output_type": "execute_result"
    }
   ],
   "source": [
    "df_cleaned[['replyContent', 'repliedAt']].dropna().head()"
   ]
  },
  {
   "cell_type": "markdown",
   "id": "475b41d8",
   "metadata": {},
   "source": [
    "# Correlação entre `score` e `thumbsUpCount`"
   ]
  },
  {
   "cell_type": "code",
   "execution_count": 13,
   "id": "5c818485",
   "metadata": {},
   "outputs": [
    {
     "data": {
      "text/html": [
       "<div>\n",
       "<style scoped>\n",
       "    .dataframe tbody tr th:only-of-type {\n",
       "        vertical-align: middle;\n",
       "    }\n",
       "\n",
       "    .dataframe tbody tr th {\n",
       "        vertical-align: top;\n",
       "    }\n",
       "\n",
       "    .dataframe thead th {\n",
       "        text-align: right;\n",
       "    }\n",
       "</style>\n",
       "<table border=\"1\" class=\"dataframe\">\n",
       "  <thead>\n",
       "    <tr style=\"text-align: right;\">\n",
       "      <th></th>\n",
       "      <th>score</th>\n",
       "      <th>thumbsUpCount</th>\n",
       "    </tr>\n",
       "  </thead>\n",
       "  <tbody>\n",
       "    <tr>\n",
       "      <th>score</th>\n",
       "      <td>1.000000</td>\n",
       "      <td>-0.104947</td>\n",
       "    </tr>\n",
       "    <tr>\n",
       "      <th>thumbsUpCount</th>\n",
       "      <td>-0.104947</td>\n",
       "      <td>1.000000</td>\n",
       "    </tr>\n",
       "  </tbody>\n",
       "</table>\n",
       "</div>"
      ],
      "text/plain": [
       "                  score  thumbsUpCount\n",
       "score          1.000000      -0.104947\n",
       "thumbsUpCount -0.104947       1.000000"
      ]
     },
     "execution_count": 13,
     "metadata": {},
     "output_type": "execute_result"
    }
   ],
   "source": [
    "df_cleaned[['score', 'thumbsUpCount']].corr()"
   ]
  },
  {
   "cell_type": "markdown",
   "id": "2d554bc3",
   "metadata": {},
   "source": [
    "# Visualização"
   ]
  },
  {
   "cell_type": "code",
   "execution_count": 14,
   "id": "7136e21d",
   "metadata": {},
   "outputs": [
    {
     "data": {
      "text/plain": [
       "<Axes: title={'center': 'Distribuição de Avaliações (Score)'}, xlabel='Score', ylabel='Contagem'>"
      ]
     },
     "execution_count": 14,
     "metadata": {},
     "output_type": "execute_result"
    },
    {
     "data": {
      "image/png": "[encoded data removed]",
      "text/plain": [
       "<Figure size 640x480 with 1 Axes>"
      ]
     },
     "metadata": {},
     "output_type": "display_data"
    }
   ],
   "source": [
    "df_cleaned['score'].value_counts().plot(kind='bar', title='Distribuição de Avaliações (Score)', xlabel='Score', ylabel='Contagem')"
   ]
  },
  {
   "cell_type": "markdown",
   "id": "c0f483ea",
   "metadata": {},
   "source": [
    "# Exportação do FataFrame Limpo"
   ]
  },
  {
   "cell_type": "code",
   "execution_count": 15,
   "id": "fff21e6b",
   "metadata": {},
   "outputs": [],
   "source": [
    "df_cleaned.to_csv('data/uber_reviews_cleaned.csv', index=False)"
   ]
  }
 ],
 "metadata": {
  "kernelspec": {
   "display_name": "FormacaoModelos",
   "language": "python",
   "name": "python3"
  },
  "language_info": {
   "codemirror_mode": {
    "name": "ipython",
    "version": 3
   },
   "file_extension": ".py",
   "mimetype": "text/x-python",
   "name": "python",
   "nbconvert_exporter": "python",
   "pygments_lexer": "ipython3",
   "version": "3.13.2"
  }
 },
 "nbformat": 4,
 "nbformat_minor": 5
}
